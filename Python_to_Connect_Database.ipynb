{
 "cells": [
  {
   "cell_type": "markdown",
   "id": "59bf34b0",
   "metadata": {},
   "source": [
    "## Task 1: Create Database using SQLite\n"
   ]
  },
  {
   "cell_type": "code",
   "execution_count": 1,
   "id": "c6a03655",
   "metadata": {},
   "outputs": [],
   "source": [
    "import sqlite3\n"
   ]
  },
  {
   "cell_type": "code",
   "execution_count": 2,
   "id": "c16c5607",
   "metadata": {},
   "outputs": [],
   "source": [
    "# connect sqlite database, this return a Connection Object\n",
    "conn = sqlite3.connect('INSTRUCTOR.db')\n"
   ]
  },
  {
   "cell_type": "code",
   "execution_count": 3,
   "id": "bad58ffc",
   "metadata": {},
   "outputs": [],
   "source": [
    "# create a Cursor Object\n",
    "cur_obj = conn.cursor()\n"
   ]
  },
  {
   "cell_type": "markdown",
   "id": "25776af6",
   "metadata": {},
   "source": [
    "## Task 2: Create a Table in the Database\n",
    "\n",
    "<img src=\"https://cf-courses-data.s3.us.cloud-object-storage.appdomain.cloud/IBMDeveloperSkillsNetwork-DB0201EN-SkillsNetwork/labs/FinalModule_Coursera_V5/images/table.png\" align=\"center\">\n"
   ]
  },
  {
   "cell_type": "code",
   "execution_count": 4,
   "id": "be7d5e96",
   "metadata": {
    "scrolled": true
   },
   "outputs": [
    {
     "data": {
      "text/plain": [
       "<sqlite3.Cursor at 0x233efd12ac0>"
      ]
     },
     "execution_count": 4,
     "metadata": {},
     "output_type": "execute_result"
    }
   ],
   "source": [
    "cur_obj.execute(\"DROP TABLE IF EXISTS INSTRUCTOR\")\n"
   ]
  },
  {
   "cell_type": "code",
   "execution_count": 5,
   "id": "e4010643",
   "metadata": {},
   "outputs": [
    {
     "name": "stdout",
     "output_type": "stream",
     "text": [
      "Table is ready\n"
     ]
    }
   ],
   "source": [
    "# create the INSTRUCTOR table in the database\n",
    "table = '''create table if not exists INSTRUCTOR (ID INTEGER PRIMARY KEY NOT NULL, FNAME VARCHAR(20), LNAME VARCHAR(20), CITY VARCHAR(20), CCODE CHAR(2));'''\n",
    "\n",
    "# the execute() function of the cursor object, does NOT return the result set, it just simply execute the SQL query\n",
    "cur_obj.execute(table)\n",
    "\n",
    "print('Table is ready')\n"
   ]
  },
  {
   "cell_type": "code",
   "execution_count": 6,
   "id": "58616618",
   "metadata": {},
   "outputs": [
    {
     "data": {
      "text/plain": [
       "<sqlite3.Cursor at 0x233efd12ac0>"
      ]
     },
     "execution_count": 6,
     "metadata": {},
     "output_type": "execute_result"
    }
   ],
   "source": [
    "# insert data into the table\n",
    "cur_obj.execute('''insert into INSTRUCTOR\n",
    "                    values (1, 'Rav', 'Ahuja', 'TORONTO', 'CA'),\n",
    "                            (2, 'Raul', 'Chong', 'Markham', 'CA'),\n",
    "                             (3, 'Hima', 'Vasudevan', 'Chicago', 'US');''')\n"
   ]
  },
  {
   "cell_type": "code",
   "execution_count": 7,
   "id": "287d999a",
   "metadata": {},
   "outputs": [
    {
     "name": "stdout",
     "output_type": "stream",
     "text": [
      "All the data\n",
      "(1, 'Rav', 'Ahuja', 'TORONTO', 'CA')\n",
      "(2, 'Raul', 'Chong', 'Markham', 'CA')\n",
      "(3, 'Hima', 'Vasudevan', 'Chicago', 'US')\n"
     ]
    }
   ],
   "source": [
    "# use: fetchall() function of the cursor object to display all data of the result set\n",
    "statement = '''select * from INSTRUCTOR;'''\n",
    "cur_obj.execute(statement)\n",
    "\n",
    "print('All the data')\n",
    "\n",
    "output_all = cur_obj.fetchall()\n",
    "for row in output_all:\n",
    "    print(row)\n"
   ]
  },
  {
   "cell_type": "code",
   "execution_count": 8,
   "id": "1547cc36",
   "metadata": {},
   "outputs": [
    {
     "name": "stdout",
     "output_type": "stream",
     "text": [
      "All the data\n",
      "(1, 'Rav', 'Ahuja', 'TORONTO', 'CA')\n",
      "(2, 'Raul', 'Chong', 'Markham', 'CA')\n"
     ]
    }
   ],
   "source": [
    "# use: fetchmany(numberOfRows) function of the cursor object to display/fetch a few rows from the result set table\n",
    "statement = '''select * from INSTRUCTOR;'''\n",
    "cur_obj.execute(statement)\n",
    "\n",
    "\n",
    "print('All the data')\n",
    "output_many = cur_obj.fetchmany(2)\n",
    "for row_many in output_many:\n",
    "    print(row_many)\n"
   ]
  },
  {
   "cell_type": "code",
   "execution_count": 9,
   "id": "6c51dc6b",
   "metadata": {},
   "outputs": [
    {
     "name": "stdout",
     "output_type": "stream",
     "text": [
      "All the data\n",
      "('Rav',)\n",
      "('Raul',)\n",
      "('Hima',)\n"
     ]
    }
   ],
   "source": [
    "statement = '''select fname from INSTRUCTOR;'''\n",
    "cur_obj.execute(statement)\n",
    "\n",
    "print('All the data')\n",
    "output_fname = cur_obj.fetchall()\n",
    "for _fname in output_fname:\n",
    "    print(_fname)\n"
   ]
  },
  {
   "cell_type": "code",
   "execution_count": 10,
   "id": "bf42ba96",
   "metadata": {},
   "outputs": [
    {
     "data": {
      "text/plain": [
       "<sqlite3.Cursor at 0x233efd12ac0>"
      ]
     },
     "execution_count": 10,
     "metadata": {},
     "output_type": "execute_result"
    }
   ],
   "source": [
    "# update the data in the table\n",
    "query_update = '''update INSTRUCTOR\n",
    "                    set city = 'Moosetown'\n",
    "                    where fname = 'Rav'; '''\n",
    "cur_obj.execute(query_update)\n"
   ]
  },
  {
   "cell_type": "code",
   "execution_count": 11,
   "id": "14cfcf72",
   "metadata": {},
   "outputs": [
    {
     "name": "stdout",
     "output_type": "stream",
     "text": [
      "All the data\n",
      "(1, 'Rav', 'Ahuja', 'Moosetown', 'CA')\n",
      "(2, 'Raul', 'Chong', 'Markham', 'CA')\n"
     ]
    }
   ],
   "source": [
    "statement = '''select * from INSTRUCTOR;'''\n",
    "cur_obj.execute(statement)\n",
    "\n",
    "print('All the data')\n",
    "output_update = cur_obj.fetchmany(2)\n",
    "for item in output_update:\n",
    "    print(item)\n"
   ]
  },
  {
   "cell_type": "markdown",
   "id": "5b8cd541",
   "metadata": {},
   "source": [
    "## Task 3: Retrieve data into Pandas\n",
    "\n",
    "In this step we will retrieve the contents of the INSTRUCTOR table into a Pandas dataframe\n"
   ]
  },
  {
   "cell_type": "code",
   "execution_count": 12,
   "id": "d63b5cc3",
   "metadata": {},
   "outputs": [
    {
     "data": {
      "text/html": [
       "<div>\n",
       "<style scoped>\n",
       "    .dataframe tbody tr th:only-of-type {\n",
       "        vertical-align: middle;\n",
       "    }\n",
       "\n",
       "    .dataframe tbody tr th {\n",
       "        vertical-align: top;\n",
       "    }\n",
       "\n",
       "    .dataframe thead th {\n",
       "        text-align: right;\n",
       "    }\n",
       "</style>\n",
       "<table border=\"1\" class=\"dataframe\">\n",
       "  <thead>\n",
       "    <tr style=\"text-align: right;\">\n",
       "      <th></th>\n",
       "      <th>ID</th>\n",
       "      <th>FNAME</th>\n",
       "      <th>LNAME</th>\n",
       "      <th>CITY</th>\n",
       "      <th>CCODE</th>\n",
       "    </tr>\n",
       "  </thead>\n",
       "  <tbody>\n",
       "    <tr>\n",
       "      <th>0</th>\n",
       "      <td>1</td>\n",
       "      <td>Rav</td>\n",
       "      <td>Ahuja</td>\n",
       "      <td>Moosetown</td>\n",
       "      <td>CA</td>\n",
       "    </tr>\n",
       "    <tr>\n",
       "      <th>1</th>\n",
       "      <td>2</td>\n",
       "      <td>Raul</td>\n",
       "      <td>Chong</td>\n",
       "      <td>Markham</td>\n",
       "      <td>CA</td>\n",
       "    </tr>\n",
       "    <tr>\n",
       "      <th>2</th>\n",
       "      <td>3</td>\n",
       "      <td>Hima</td>\n",
       "      <td>Vasudevan</td>\n",
       "      <td>Chicago</td>\n",
       "      <td>US</td>\n",
       "    </tr>\n",
       "  </tbody>\n",
       "</table>\n",
       "</div>"
      ],
      "text/plain": [
       "   ID FNAME      LNAME       CITY CCODE\n",
       "0   1   Rav      Ahuja  Moosetown    CA\n",
       "1   2  Raul      Chong    Markham    CA\n",
       "2   3  Hima  Vasudevan    Chicago    US"
      ]
     },
     "execution_count": 12,
     "metadata": {},
     "output_type": "execute_result"
    }
   ],
   "source": [
    "import pandas as pd\n",
    "\n",
    "# #retrieve the query results into a pandas dataframe\n",
    "df = pd.read_sql_query(\"select * from INSTRUCTOR\", conn)\n",
    "\n",
    "# print the dataframe\n",
    "df\n"
   ]
  },
  {
   "cell_type": "code",
   "execution_count": 13,
   "id": "2806409a",
   "metadata": {},
   "outputs": [
    {
     "data": {
      "text/plain": [
       "'Ahuja'"
      ]
     },
     "execution_count": 13,
     "metadata": {},
     "output_type": "execute_result"
    }
   ],
   "source": [
    "# print just the LNAME for first row in the pandas data frame\n",
    "df.LNAME[0]\n"
   ]
  },
  {
   "cell_type": "markdown",
   "id": "106a9ef6",
   "metadata": {},
   "source": [
    "Once the data is in a Pandas dataframe, you can do the typical pandas operations on it.\n",
    "\n",
    "For example you can use the shape method to see how many rows and columns are in the dataframe\n"
   ]
  },
  {
   "cell_type": "code",
   "execution_count": 14,
   "id": "5dd647c6",
   "metadata": {},
   "outputs": [
    {
     "data": {
      "text/plain": [
       "(3, 5)"
      ]
     },
     "execution_count": 14,
     "metadata": {},
     "output_type": "execute_result"
    }
   ],
   "source": [
    "df.shape\n"
   ]
  },
  {
   "cell_type": "markdown",
   "id": "7f12c8ce",
   "metadata": {},
   "source": [
    "## Task 4: Close the Connection\n",
    "\n",
    "We free all resources by closing the connection. Remember that it is always important to close connections so that we can avoid unused connections taking up resources.\n"
   ]
  },
  {
   "cell_type": "code",
   "execution_count": 15,
   "id": "222773d6",
   "metadata": {},
   "outputs": [],
   "source": [
    "cur_obj.close()\n",
    "conn.close()\n"
   ]
  }
 ],
 "metadata": {
  "kernelspec": {
   "display_name": "Python 3 (ipykernel)",
   "language": "python",
   "name": "python3"
  },
  "language_info": {
   "codemirror_mode": {
    "name": "ipython",
    "version": 3
   },
   "file_extension": ".py",
   "mimetype": "text/x-python",
   "name": "python",
   "nbconvert_exporter": "python",
   "pygments_lexer": "ipython3",
   "version": "3.10.7"
  }
 },
 "nbformat": 4,
 "nbformat_minor": 5
}
